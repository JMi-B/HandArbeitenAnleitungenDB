{
 "cells": [
  {
   "cell_type": "code",
   "execution_count": 3,
   "id": "a3c89f6b-c781-4f27-bdf1-e8582088cca7",
   "metadata": {},
   "outputs": [
    {
     "name": "stdout",
     "output_type": "stream",
     "text": [
      "Requirement already satisfied: mysql-connector-python in c:\\users\\jbon182\\appdata\\local\\anaconda3\\lib\\site-packages (9.3.0)\n"
     ]
    }
   ],
   "source": [
    "!pip install mysql-connector-python\n",
    "\n",
    "import pandas as pd\n",
    "import mysql.connector\n",
    "\n",
    "csv_path = \"../Data/medien_Version2.csv\"\n",
    "\n",
    "# Verbindung zur MySql-Datenbank CC\n",
    "\n",
    "conn =mysql.connector.connect(\n",
    "    host=\"127.0.0.1\",\n",
    "    user=\"root\",\n",
    "    password=\"\",\n",
    "    database=\"AnleitungDB03\"\n",
    " )\n",
    "cursor= conn.cursor()\n",
    "\n",
    "'''\n",
    "# Verbindung zur MySql-Datenbank Zuhause\n",
    "\n",
    "conn =mysql.connector.connect(\n",
    "    host=\"127.0.0.1\",\n",
    "    user=\"Jmi\",\n",
    "    password=\"MdE,'LvuL,349\",\n",
    "    database=\"AnleitungDB03\"\n",
    ")\n",
    "cursor= conn.cursor()\n",
    "'''\n",
    "\n",
    "# csv einlesen\n",
    "df= pd.read_csv(csv_path)\n",
    "\n",
    "for _, row in df.iterrows():\n",
    "    row = row.where(pd.notnull(row), None)  # <--- automatisch für alle Spalten!\n",
    "    medienart = row ['MedienArt']\n",
    "    titel = row ['Titel']\n",
    "    sprache = row.get('Sprache', None)\n",
    "    # Medium anlegen\n",
    "    cursor.execute(\n",
    "    \"insert into Medium (Titel, MedienArt, Sprache) values (%s, %s, %s)\",\n",
    "    (titel, medienart, sprache)\n",
    "    )\n",
    "    medium_id = cursor.lastrowid\n",
    "\n",
    "    # Buch oder Zeitschrift anlegen\n",
    "\n",
    "    if medienart == 'Buch':\n",
    "        cursor.execute(\n",
    "            \"insert into Buch (MediumID, Untertitel, Jahr, Verlag, Ort, ISBN, Reihe, Band) values (%s, %s, %s, %s, %s, %s, %s, %s)\",\n",
    "            (\n",
    "            medium_id,\n",
    "            row.get('Untertitel', None),\n",
    "            row.get('Jahr', None),\n",
    "            row.get('Verlag', None),\n",
    "            row.get('Ort', None),\n",
    "            row.get('ISBN', None),\n",
    "            row.get('Reihe', None),\n",
    "            row.get('Band', None)\n",
    "            )\n",
    "        )\n",
    "\n",
    "    elif medienart == 'Zeitschrift':\n",
    "        cursor.execute(\n",
    "            \"INSERT INTO Zeitschrift (MediumID, Untertitel, Jahrgang, Monat, Heftnummer, Sonderheft) VALUES (%s, %s, %s, %s, %s, %s)\",\n",
    "            (\n",
    "                medium_id,\n",
    "                row.get('Untertitel', None),\n",
    "                row.get('Jahrgang', None),\n",
    "                row.get('Monat', None),\n",
    "                row.get('Heftnummer', None),\n",
    "                bool(row.get('Sonderheft', False))\n",
    "            )\n",
    "        )\n",
    "    # Analog für weitere Medienarten (Website, Flyer, Schnittmuster...)\n",
    "conn.commit()\n",
    "cursor.close()\n",
    "conn.close()\n",
    "\n"
   ]
  },
  {
   "cell_type": "code",
   "execution_count": null,
   "id": "0b3c9d5f-2dfe-4ad5-909a-290ca34204ce",
   "metadata": {},
   "outputs": [],
   "source": []
  }
 ],
 "metadata": {
  "kernelspec": {
   "display_name": "Python 3 (ipykernel)",
   "language": "python",
   "name": "python3"
  },
  "language_info": {
   "codemirror_mode": {
    "name": "ipython",
    "version": 3
   },
   "file_extension": ".py",
   "mimetype": "text/x-python",
   "name": "python",
   "nbconvert_exporter": "python",
   "pygments_lexer": "ipython3",
   "version": "3.12.7"
  }
 },
 "nbformat": 4,
 "nbformat_minor": 5
}
